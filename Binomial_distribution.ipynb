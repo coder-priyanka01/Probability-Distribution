{
 "cells": [
  {
   "cell_type": "code",
   "execution_count": 2,
   "id": "fd05e49d-fffb-45b4-ad3e-33f3e8011c8c",
   "metadata": {},
   "outputs": [
    {
     "name": "stdout",
     "output_type": "stream",
     "text": [
      "0.2050781249999999\n"
     ]
    }
   ],
   "source": [
    " from scipy.stats import binom\n",
    " \n",
    " prob = binom.pmf(k=6, n=10, p=0.5)\n",
    " print(prob) "
   ]
  }
 ],
 "metadata": {
  "kernelspec": {
   "display_name": "Python 3 (ipykernel)",
   "language": "python",
   "name": "python3"
  },
  "language_info": {
   "codemirror_mode": {
    "name": "ipython",
    "version": 3
   },
   "file_extension": ".py",
   "mimetype": "text/x-python",
   "name": "python",
   "nbconvert_exporter": "python",
   "pygments_lexer": "ipython3",
   "version": "3.12.7"
  }
 },
 "nbformat": 4,
 "nbformat_minor": 5
}
